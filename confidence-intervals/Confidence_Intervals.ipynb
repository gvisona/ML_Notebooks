{
 "cells": [
  {
   "cell_type": "code",
   "execution_count": 1,
   "id": "0ee7ad16-a967-438a-b63b-668d7bcc2a0e",
   "metadata": {},
   "outputs": [],
   "source": [
    "import pandas as pd\n",
    "import numpy as np\n",
    "import seaborn as sns\n",
    "import matplotlib.pyplot as plt"
   ]
  },
  {
   "cell_type": "markdown",
   "id": "b4b73cf2-73cc-4507-b010-53ae1b24a69f",
   "metadata": {},
   "source": [
    "# The setup\n",
    "\n",
    "Imagine you have a research question, a dataset, and a novel model that you are sure will do better. \n",
    "How do you robustly compare it to any baseline you have, so to have convincing results to present?\n",
    "\n",
    "Let us create some mock data to represent the problem, and analyze the use of statistical tests and confidence intervals within this context"
   ]
  },
  {
   "cell_type": "markdown",
   "id": "257299db-07f2-4e38-bc2a-610779ee61aa",
   "metadata": {},
   "source": [
    "## Simulating an experiment\n",
    "\n",
    "We have a dataset, two baselines (B1 and B2), and our proposed model (M).\n",
    "\n",
    "We split the dataset into training and test set, train the model, and measure the Mean Squared Error (MSE).\n",
    "The measure of the performance of a model is a random variable, and we will skip here any form of training and simply sample\n",
    "from some underlying distribution to have some results to play with."
   ]
  },
  {
   "cell_type": "code",
   "execution_count": 15,
   "id": "1cb07299-0e8f-4272-99dd-7c183bb8f1b2",
   "metadata": {},
   "outputs": [
    {
     "data": {
      "text/html": [
       "<div>\n",
       "<style scoped>\n",
       "    .dataframe tbody tr th:only-of-type {\n",
       "        vertical-align: middle;\n",
       "    }\n",
       "\n",
       "    .dataframe tbody tr th {\n",
       "        vertical-align: top;\n",
       "    }\n",
       "\n",
       "    .dataframe thead th {\n",
       "        text-align: right;\n",
       "    }\n",
       "</style>\n",
       "<table border=\"1\" class=\"dataframe\">\n",
       "  <thead>\n",
       "    <tr style=\"text-align: right;\">\n",
       "      <th></th>\n",
       "      <th>Model</th>\n",
       "      <th>MSE</th>\n",
       "    </tr>\n",
       "  </thead>\n",
       "  <tbody>\n",
       "    <tr>\n",
       "      <th>0</th>\n",
       "      <td>B1</td>\n",
       "      <td>0.880431</td>\n",
       "    </tr>\n",
       "    <tr>\n",
       "      <th>1</th>\n",
       "      <td>B2</td>\n",
       "      <td>0.845299</td>\n",
       "    </tr>\n",
       "    <tr>\n",
       "      <th>2</th>\n",
       "      <td>M</td>\n",
       "      <td>0.854769</td>\n",
       "    </tr>\n",
       "  </tbody>\n",
       "</table>\n",
       "</div>"
      ],
      "text/plain": [
       "  Model       MSE\n",
       "0    B1  0.880431\n",
       "1    B2  0.845299\n",
       "2     M  0.854769"
      ]
     },
     "execution_count": 15,
     "metadata": {},
     "output_type": "execute_result"
    }
   ],
   "source": [
    "np.random.seed(42)\n",
    "\n",
    "results = []\n",
    "results.append({\"Model\": \"B1\", \"MSE\": np.random.normal(loc=0.87, scale=0.021)})\n",
    "results.append({\"Model\": \"B2\", \"MSE\": np.random.normal(loc=0.85, scale=0.034)})\n",
    "results.append({\"Model\": \"M\", \"MSE\": np.random.normal(loc=0.79, scale=0.10)})\n",
    "results = pd.DataFrame(results)\n",
    "results"
   ]
  },
  {
   "cell_type": "markdown",
   "id": "d9d602c5-44fe-4e33-bcec-2609cc3a3a68",
   "metadata": {},
   "source": [
    "Notice that if we repeat the procedure, we will get different results, that might even flip any ranking that we derive. \n",
    "This is not just an artifact of this notebook, but a real fact of research projects: if you repeat the same experiment with a different\n",
    "train/test split, or with a different initialization of parameters, or possibly even just a different seed, you will get a different metric."
   ]
  },
  {
   "cell_type": "code",
   "execution_count": 16,
   "id": "5f174d95-42f9-44e8-8cbb-c0c8e8661a0c",
   "metadata": {},
   "outputs": [
    {
     "data": {
      "text/html": [
       "<div>\n",
       "<style scoped>\n",
       "    .dataframe tbody tr th:only-of-type {\n",
       "        vertical-align: middle;\n",
       "    }\n",
       "\n",
       "    .dataframe tbody tr th {\n",
       "        vertical-align: top;\n",
       "    }\n",
       "\n",
       "    .dataframe thead th {\n",
       "        text-align: right;\n",
       "    }\n",
       "</style>\n",
       "<table border=\"1\" class=\"dataframe\">\n",
       "  <thead>\n",
       "    <tr style=\"text-align: right;\">\n",
       "      <th></th>\n",
       "      <th>Model</th>\n",
       "      <th>MSE</th>\n",
       "    </tr>\n",
       "  </thead>\n",
       "  <tbody>\n",
       "    <tr>\n",
       "      <th>0</th>\n",
       "      <td>B1</td>\n",
       "      <td>0.901984</td>\n",
       "    </tr>\n",
       "    <tr>\n",
       "      <th>1</th>\n",
       "      <td>B2</td>\n",
       "      <td>0.842039</td>\n",
       "    </tr>\n",
       "    <tr>\n",
       "      <th>2</th>\n",
       "      <td>M</td>\n",
       "      <td>0.766586</td>\n",
       "    </tr>\n",
       "  </tbody>\n",
       "</table>\n",
       "</div>"
      ],
      "text/plain": [
       "  Model       MSE\n",
       "0    B1  0.901984\n",
       "1    B2  0.842039\n",
       "2     M  0.766586"
      ]
     },
     "execution_count": 16,
     "metadata": {},
     "output_type": "execute_result"
    }
   ],
   "source": [
    "results = []\n",
    "results.append({\"Model\": \"B1\", \"MSE\": np.random.normal(loc=0.87, scale=0.021)})\n",
    "results.append({\"Model\": \"B2\", \"MSE\": np.random.normal(loc=0.85, scale=0.034)})\n",
    "results.append({\"Model\": \"M\", \"MSE\": np.random.normal(loc=0.79, scale=0.10)})\n",
    "results = pd.DataFrame(results)\n",
    "results"
   ]
  },
  {
   "cell_type": "code",
   "execution_count": null,
   "id": "33d125b5-d875-47a8-b92c-a08e2151c6cb",
   "metadata": {},
   "outputs": [],
   "source": [
    "## Repeated evaluations\n",
    "\n",
    "To solve "
   ]
  },
  {
   "cell_type": "code",
   "execution_count": null,
   "id": "0b4de216-2edd-4dfc-8dfa-c3655c967056",
   "metadata": {},
   "outputs": [],
   "source": []
  }
 ],
 "metadata": {
  "kernelspec": {
   "display_name": "Python 3 (ipykernel)",
   "language": "python",
   "name": "python3"
  },
  "language_info": {
   "codemirror_mode": {
    "name": "ipython",
    "version": 3
   },
   "file_extension": ".py",
   "mimetype": "text/x-python",
   "name": "python",
   "nbconvert_exporter": "python",
   "pygments_lexer": "ipython3",
   "version": "3.12.3"
  }
 },
 "nbformat": 4,
 "nbformat_minor": 5
}
